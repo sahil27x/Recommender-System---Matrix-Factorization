{
 "cells": [
  {
   "cell_type": "markdown",
   "metadata": {},
   "source": [
    "## Matrix Factorization"
   ]
  },
  {
   "cell_type": "markdown",
   "metadata": {},
   "source": [
    "#### Matrix Factorization is a simple embedding model"
   ]
  },
  {
   "cell_type": "markdown",
   "metadata": {},
   "source": [
    "#### Given a rating matrix R of dimension n x m, where m = no. of users and n = no. of items. The model learns 1. User Embedding U of dimension n x k 2. Item Embedding V of dimension m x k, where k = embedding dimension"
   ]
  },
  {
   "cell_type": "code",
   "execution_count": 1,
   "metadata": {},
   "outputs": [],
   "source": [
    "import numpy as np"
   ]
  },
  {
   "cell_type": "code",
   "execution_count": 9,
   "metadata": {},
   "outputs": [],
   "source": [
    "def matrix_factorization(R, U, V, K, steps = 5000, alpha = 0.002, beta = 0.02):\n",
    "    '''\n",
    "    R : rating matrix\n",
    "    U : user embedding matrix \n",
    "    V : item embedding matrix\n",
    "    K : number of features / embedding dimension\n",
    "    steps : iterations\n",
    "    alpha : learning rate\n",
    "    beta : regularization paramter\n",
    "    '''\n",
    "    V = V.T\n",
    "    \n",
    "    for step in range(steps):\n",
    "        for i in range(len(R)):\n",
    "            for j in range(len(R[0])):\n",
    "                # if rating is present\n",
    "                if R[i][j] > 0:\n",
    "                    # calculate error\n",
    "                    eij = R[i][j] - numpy.dot(U[i,:], V[:,j])\n",
    "                    \n",
    "                    for k in range(K):\n",
    "                        # calculate gradient with alpha and beta parameter\n",
    "                        U[i][k] = U[i][k] + alpha * (2 * eij * V[k][j] - beta * U[i][k])\n",
    "                        V[k][j] = V[k][j] + alpha * (2 * eij * U[i][k] - beta * V[k][j])\n",
    "        \n",
    "        e = 0\n",
    "        \n",
    "        # calculating MSE\n",
    "        for i in range(len(R)):\n",
    "            for j in range(len(R[0])):\n",
    "                \n",
    "                if R[i][j] > 0:\n",
    "                    \n",
    "                    e += numpy.square(R[i][j] - numpy.dot(U[i,:],V[:,j])).mean()\n",
    "                    \n",
    "                    for k in range(K):\n",
    "                        e += (beta/2) * (pow(U[i][k],2) + pow(V[k][j],2))\n",
    "        if e < 0.001:\n",
    "            break\n",
    "            \n",
    "    return U,V.T                  "
   ]
  },
  {
   "cell_type": "code",
   "execution_count": 2,
   "metadata": {},
   "outputs": [],
   "source": [
    "# input rating matrix\n",
    "R  = [\n",
    "\n",
    "     [5,3,0,1],\n",
    "\n",
    "     [4,0,0,1],\n",
    "\n",
    "     [1,1,0,5],\n",
    "\n",
    "     [1,0,0,4],\n",
    "\n",
    "     [0,1,5,4],\n",
    "    \n",
    "     [2,1,3,0],\n",
    "\n",
    "    ]"
   ]
  },
  {
   "cell_type": "code",
   "execution_count": 11,
   "metadata": {},
   "outputs": [],
   "source": [
    "R = numpy.array(R)\n",
    "# N : number of users\n",
    "N = len(R)\n",
    "# M : number of items\n",
    "M = len(R[0])\n",
    "# K : numbers of features\n",
    "K = 3\n",
    "\n",
    "# Initializing user and item embedding matrices\n",
    "U = numpy.random.rand(N,K)\n",
    "V = numpy.random.rand(M,K)\n",
    "\n",
    "# trained user and item embeddings\n",
    "nU, nV = matrix_factorization(R, U, V, K)"
   ]
  },
  {
   "cell_type": "code",
   "execution_count": 12,
   "metadata": {},
   "outputs": [],
   "source": [
    "# nR : predicted rating matrix\n",
    "nR = numpy.dot(nU, nV.T)"
   ]
  },
  {
   "cell_type": "code",
   "execution_count": 13,
   "metadata": {},
   "outputs": [
    {
     "data": {
      "text/plain": [
       "array([[4.97869381, 2.9735533 , 3.31500006, 1.00214929],\n",
       "       [3.98041539, 2.26333595, 2.84224295, 0.99963324],\n",
       "       [1.00791549, 0.98454008, 5.87308563, 4.96961038],\n",
       "       [0.99899871, 0.69524851, 4.75333885, 3.98276579],\n",
       "       [1.44561732, 1.0074433 , 4.97863307, 3.99768097],\n",
       "       [1.9810794 , 1.02096781, 2.98938699, 1.97950478]])"
      ]
     },
     "execution_count": 13,
     "metadata": {},
     "output_type": "execute_result"
    }
   ],
   "source": [
    "nR"
   ]
  }
 ],
 "metadata": {
  "kernelspec": {
   "display_name": "Python 3",
   "language": "python",
   "name": "python3"
  },
  "language_info": {
   "codemirror_mode": {
    "name": "ipython",
    "version": 3
   },
   "file_extension": ".py",
   "mimetype": "text/x-python",
   "name": "python",
   "nbconvert_exporter": "python",
   "pygments_lexer": "ipython3",
   "version": "3.7.7"
  }
 },
 "nbformat": 4,
 "nbformat_minor": 4
}
